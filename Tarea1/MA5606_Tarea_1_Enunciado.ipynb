{
  "cells": [
    {
      "cell_type": "markdown",
      "metadata": {
        "id": "lUNbsNbwOTvx"
      },
      "source": [
        "## **MA5606 Tópicos Matemáticos en Aprendizaje de Máquinas, Redes Neuronales y Aprendizaje Profundo**\n",
        "\n",
        "### **Tarea 1: Redes neuronales feedfoward y PINNs**\n",
        "\n",
        "**Profesores: Claudio Muñoz y Joaquín Fontbona**\n",
        "\n",
        "**Auxiliares: Javier Maass y Diego Olguín**\n",
        "\n",
        "**Nombres integrantes: COMPLETAR**"
      ]
    },
    {
      "cell_type": "markdown",
      "metadata": {
        "id": "sxGdNKqBdpv_"
      },
      "source": [
        "**Instrucciones:**\n",
        "\n",
        "- **Fecha de entrega:** **26 de abril de 2024, a las 23:59.**\n",
        "\n",
        "- **Importante:** Si trabaja desde el link de Google Colab (muy recomendable para trabajar con DeepXDE) debe hacer un copia en su Drive antes de trabajar, de lo contrario se podrían no guardar sus códigos.\n",
        "\n",
        "- Debe entregar un Jupyter Notebook (archivo .ipynb) con sus código en Python. Le pueden ser de mucha utilidad los códigos vistos en la actividad práctica.\n",
        "\n",
        "- Sus códigos deben estar comentados y ordenados. Además, en formato texto debe colocar todas sus conclusiones y resultados pedidos que deban ser redactados.\n",
        "\n",
        "- En todos los ejercicios se le pide hacer al menos un gráfico. Los gráficos que realicen deben ser claros, con títulos y nombres en los ejes, junto con leyendas si es que corresponde."
      ]
    },
    {
      "cell_type": "code",
      "execution_count": 111,
      "metadata": {
        "id": "0Ln5xbD8OQB7"
      },
      "outputs": [
        {
          "data": {
            "text/plain": [
              "<torch._C.Generator at 0x16322df10>"
            ]
          },
          "execution_count": 111,
          "metadata": {},
          "output_type": "execute_result"
        }
      ],
      "source": [
        "# Librerías\n",
        "\n",
        "# Numpy y matplotlib, junto con seaborn, para gráficos un poco mejores\n",
        "import numpy as np\n",
        "import matplotlib.pyplot as plt\n",
        "\n",
        "# Puede ser útil para hacer gráficos con barras de colores\n",
        "from mpl_toolkits.axes_grid1 import make_axes_locatable\n",
        "\n",
        "import seaborn as sns\n",
        "\n",
        "sns.set_theme()\n",
        "\n",
        "# PyTorch y módulos que serán necesario\n",
        "import torch\n",
        "import torch.nn as nn\n",
        "import torch.optim as optim\n",
        "\n",
        "torch.manual_seed(42)"
      ]
    },
    {
      "cell_type": "markdown",
      "metadata": {
        "id": "l7r-Fb47PG3s"
      },
      "source": [
        "## **Ejercicio 1**\n",
        "\n",
        "El objetivo de este ejercicio es estudiar la aproximación vía redes neuronales del problema de frontera\n",
        "\n",
        "$$ y''(x) + \\frac{\\pi^2}{4} y(x) = 0 $$\n",
        "$$ y(-1) = y(1) = 0, \\, y(0) = 1$$\n",
        "\n",
        "Para ello utilice redes de 1 capa oculta de ancho $N$, usando $N = \\{ 10, 20, 30, 100\\}$. Entrene la red con 600 iteraciones del algoritmo ``Adam``.\n",
        "\n",
        "En cada caso grafique la evolución de la función de pérdida en las iteraciones de entrenamiento, además de la red evaluada en puntos en el intervalo $[-1,1]$ y compare con la solución analítica:\n",
        "\n",
        "$$ y(x) = \\cos \\left (\\frac{\\pi}{2} x \\right ) $$"
      ]
    },
    {
      "cell_type": "code",
      "execution_count": 113,
      "metadata": {
        "id": "3nXEQlOhK_0X"
      },
      "outputs": [],
      "source": [
        "# Creo la clase que define la red neuronal con el codigo del auxiliar:\n",
        "\n",
        "class NeuralNetwork(nn.Module):\n",
        "    def __init__(self, dim_input, dim_output, n_layers, layer_width, activation) -> None: # Tiene limitación de escoger un único ancho de la red. (wide es un int, podría ser un vector de ints)\n",
        "        super().__init__()\n",
        "        # Se crean las capas internas\n",
        "        self.inner_layers = nn.ModuleList([nn.Linear(dim_input if n == 0 else layer_width, layer_width)\n",
        "                                           for n in range(n_layers - 1)])\n",
        "        # Y la última capa, o de output\n",
        "        self.last_layer = nn.Linear(layer_width, dim_output)\n",
        "        self.activation = activation\n",
        "\n",
        "    # Función de forward, que dado un input calcula el output de la red\n",
        "    def forward(self, input):\n",
        "\n",
        "        for layer in self.inner_layers:\n",
        "            input = self.activation()(layer(input)) # Efecto de activación\n",
        "\n",
        "        return self.last_layer(input)"
      ]
    },
    {
      "cell_type": "code",
      "execution_count": 122,
      "metadata": {},
      "outputs": [
        {
          "name": "stdout",
          "output_type": "stream",
          "text": [
            "Iterations 100 || loss: 0.0008\n",
            "Iterations 200 || loss: 0.0000\n",
            "Iterations 300 || loss: 0.0007\n",
            "Iterations 400 || loss: 0.0000\n",
            "Iterations 500 || loss: 0.0000\n",
            "Iterations 600 || loss: 0.0001\n"
          ]
        }
      ],
      "source": [
        "# Me robo también el código para las derivadas\n",
        "\n",
        "def derivative(f, variable):\n",
        "    return torch.autograd.grad(f.sum(), variable, create_graph=True)[0]\n",
        "\n",
        "# Finalmente algo que escribo yo:\n",
        "\n",
        "def ode_difference(x, net):\n",
        "    y = net(x).unsqueeze(0)\n",
        "    dy = derivative(y, x)\n",
        "    ddy = derivative(dy, x)\n",
        "    return (ddy + (np.pi**2 / 4) * y)\n",
        "\n",
        "n_layers = 3 # Número de capas\n",
        "wide = 100 # Ancho\n",
        "\n",
        "\n",
        "# Dimensiones de entrada y salida, que serán iguales en este caso\n",
        "dim_input = 1\n",
        "dim_output = 1\n",
        "\n",
        "# Red neuronal\n",
        "net = NeuralNetwork(dim_input, dim_output, n_layers, wide, nn.Tanh)\n",
        "\n",
        "# Optimizador\n",
        "optimizer = torch.optim.Adam(net.parameters())\n",
        "\n",
        "# Pesos de las funciones de pérdida\n",
        "weights = (1, 1)\n",
        "\n",
        "# Valores iniciales\n",
        "x_initial = torch.tensor([[-1.0], [0.0], [1.0]])\n",
        "y_initial = torch.tensor([[0.], [1.], [0.]])\n",
        "# x_initial = torch.tensor([[0.0]])\n",
        "# y_initial = torch.tensor([[1.0]])\n",
        "\n",
        "# Iteraciones de entrenamiento\n",
        "iters = 600\n",
        "\n",
        "# Discretización en tiempo\n",
        "samples_phys = 300\n",
        "\n",
        "# Iremos guardando la pérdida en cada época\n",
        "loss_record = []\n",
        "\n",
        "# Tiempo para evaluar lo que devuelve el residuo de la EDO\n",
        "x_phys = torch.linspace(-1, 1, samples_phys).reshape((samples_phys, 1)).requires_grad_()\n",
        "\n",
        "def calc_loss():\n",
        "\n",
        "    ####\n",
        "    # Pérdida en la condición inicial\n",
        "    ####\n",
        "\n",
        "    # Predicción en el medio\n",
        "    output_initial = net(x_initial)\n",
        "\n",
        "    # Objetivo o target, es lo que debería dar, en este caso\n",
        "    # la condición inicial real\n",
        "    target_initial = y_initial\n",
        "\n",
        "    # Cálculo de la perdida en la condición inicial\n",
        "    loss_initial = nn.MSELoss()(output_initial, target_initial)\n",
        "\n",
        "    ####\n",
        "    # Pérdida en la EDO o la física\n",
        "    ####\n",
        "\n",
        "    # Evaluación de la red en el residuo de la EDO\n",
        "    output_phys = ode_difference(x_phys, net)\n",
        "\n",
        "    # Objetivo, nos debería dar 0 el residuo\n",
        "    target_phys = torch.zeros_like(output_phys)\n",
        "\n",
        "    # Cálculo de la perdida en el residuo de la EDO\n",
        "    loss_phys = nn.MSELoss()(output_phys, target_phys)\n",
        "\n",
        "    ####\n",
        "    # Pérdida total\n",
        "    ####\n",
        "\n",
        "    # Cálculo de la función de pérdida total\n",
        "    loss =  weights[0]*loss_phys + weights[1]*loss_initial\n",
        "\n",
        "    return loss\n",
        "\n",
        "# Función necesaria para el optimizador\n",
        "def closure():\n",
        "    optimizer.zero_grad() # Se actualizan los pesos haciendo gradiente 0\n",
        "    loss = calc_loss() # Se calcula la función de pérdida\n",
        "    loss.backward() # Diferenciación automática\n",
        "    return loss\n",
        "\n",
        "try:\n",
        "    for iter in range(1, iters + 1):\n",
        "\n",
        "        # Guardamos la pérdida calculada\n",
        "        loss_record.append(calc_loss().item())\n",
        "        # Paso del optimizador\n",
        "        optimizer.step(closure)\n",
        "\n",
        "        # Imprimimos la pérdida en cada iteración, cada ciertas iteraciones\n",
        "        if iter % 100 == 0:\n",
        "            print(f'Iterations {iter} || loss: {loss_record[-1]:.4f}')\n",
        "\n",
        "# Hacer esta sentencia try, except de esta forma hace que\n",
        "# podamos parar el entrenamiento sin que haya error\n",
        "except KeyboardInterrupt:\n",
        "    pass"
      ]
    },
    {
      "cell_type": "code",
      "execution_count": 123,
      "metadata": {},
      "outputs": [
        {
          "data": {
            "image/png": "[encoded data removed]",
            "text/plain": [
              "<Figure size 800x600 with 1 Axes>"
            ]
          },
          "metadata": {},
          "output_type": "display_data"
        }
      ],
      "source": [
        "x0, xf = -1, 1\n",
        "N, dim = 50, 1\n",
        "size = (N, dim)\n",
        "# Generamos datos para poder testear el resultado de la red\n",
        "N_test = 50\n",
        "X_test = torch.linspace(x0, xf, N_test).reshape((N_test, dim))\n",
        "y_test = net(X_test).squeeze()\n",
        "# y_true = y_analitica(X_test).squeeze()\n",
        "\n",
        "datax = [x_initial[0][0]]\n",
        "datay = [net(x_initial).detach()[0][0]]\n",
        "\n",
        "fix, ax = plt.subplots(1, 1, figsize=(8, 6))\n",
        "# Cuando pasamos un tensor a través de una red entrenada\n",
        "# debemos utilizar detach() para eliminar el grafo que se utiliza\n",
        "# en la autodiferenciación\n",
        "ax.plot(X_test, y_test.detach(), label=\"Red Neuronal\")\n",
        "# ax.scatter(X_test, y_true, label=\"Verdadero\", c=\"orange\")\n",
        "ax.scatter(datax, datay, c=\"magenta\", label=\"Datos\")\n",
        "ax.set_xlabel(\"x\")\n",
        "ax.set_ylabel(\"y\")\n",
        "ax.set_title(\"Comparación con la función original\")\n",
        "ax.legend()\n",
        "plt.show()"
      ]
    },
    {
      "cell_type": "markdown",
      "metadata": {
        "id": "_DMLdiY3RjId"
      },
      "source": [
        "## **Ejercicio 2**\n",
        "\n"
      ]
    },
    {
      "cell_type": "markdown",
      "metadata": {
        "id": "Ho8aesDRAwr2"
      },
      "source": [
        "Veremos nuevamente el problema de EDP de Helmholtz\n",
        "\n",
        "$$ -\\Delta u - k_0^2 u = f, \\quad \\Omega = (0,1)^2 $$\n",
        "$$ u = 0, \\quad ∂ Ω $$\n",
        "\n",
        "Que tiene solución analítica\n",
        "\n",
        "$$ u(x, y) =  \\sin (k_0 x) \\sin (k_0 y)$$\n",
        "\n",
        "Cuando $f(x,y) = k_0^2 \\sin (k_0 x) \\sin (k_0 y)$. Considere $k_0 = 2 n \\pi$ y entrene una red neuronal de 3 capas, 100 neuronas por capa, función de activación seno y 3000 iteraciones del optimizador Adam, que resuelva el problema para $n \\in \\{ 1, 3, 5 \\}$. Grafique la función de pérdida en función de las iteraciones de entrenamiento y el resultado de la red, comparando este con la solución analítica. ¿Qué resultado observa para los distintos $n$ propuestos?"
      ]
    },
    {
      "cell_type": "code",
      "execution_count": 124,
      "metadata": {
        "id": "3yq5QQlGBB-4"
      },
      "outputs": [],
      "source": [
        "# Instalamos e importamos la librería\n",
        "try:\n",
        "    import deepxde as dde\n",
        "except:\n",
        "    !pip install deepxde\n",
        "    import deepxde as dde\n",
        "\n",
        "# Importamos Tensorflow, que es el backend que utilizaremos\n",
        "import tensorflow as tf"
      ]
    },
    {
      "cell_type": "code",
      "execution_count": 56,
      "metadata": {
        "id": "YgaYPiXYLQfR"
      },
      "outputs": [],
      "source": [
        "# Solución!"
      ]
    },
    {
      "cell_type": "markdown",
      "metadata": {
        "id": "GRVZDx4YaL8y"
      },
      "source": [
        "### **Ejercicio 3**\n",
        "\n",
        "Considere el problema de Poisson\n",
        "\n",
        "$$ -\\Delta u = x(1-x) + y(1-y), \\quad \\Omega = (0,1)^2 $$\n",
        "$$ u = 0, \\quad ∂ Ω $$\n",
        "\n",
        "Que tiene solución analítica\n",
        "\n",
        "$$ u(x, y) = \\frac{1}{2} x(1-x)y(1-y)$$\n",
        "\n",
        "Entrene una red neuronal que aproxime la solución al problema, para ello considere una red de 3 capas, 100 neuronas por cada, función de activatión tangente hiperbólica y 500 iteraciones del optimizador Adam. Grafique la función de pérdida en función de las iteraciones de entrenamiento y el resultado de la red, comparando este con la solución analítica del problema.\n"
      ]
    },
    {
      "cell_type": "code",
      "execution_count": 57,
      "metadata": {
        "id": "cPDkUQCXLS_7"
      },
      "outputs": [],
      "source": [
        "# Solución!"
      ]
    }
  ],
  "metadata": {
    "colab": {
      "provenance": []
    },
    "kernelspec": {
      "display_name": "Python 3",
      "name": "python3"
    },
    "language_info": {
      "codemirror_mode": {
        "name": "ipython",
        "version": 3
      },
      "file_extension": ".py",
      "mimetype": "text/x-python",
      "name": "python",
      "nbconvert_exporter": "python",
      "pygments_lexer": "ipython3",
      "version": "3.11.0"
    }
  },
  "nbformat": 4,
  "nbformat_minor": 0
}
