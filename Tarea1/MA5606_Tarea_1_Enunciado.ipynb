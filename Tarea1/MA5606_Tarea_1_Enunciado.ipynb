{
  "nbformat": 4,
  "nbformat_minor": 0,
  "metadata": {
    "colab": {
      "provenance": []
    },
    "kernelspec": {
      "name": "python3",
      "display_name": "Python 3"
    },
    "language_info": {
      "name": "python"
    }
  },
  "cells": [
    {
      "cell_type": "markdown",
      "source": [
        "## **MA5606 Tópicos Matemáticos en Aprendizaje de Máquinas, Redes Neuronales y Aprendizaje Profundo**\n",
        "\n",
        "### **Tarea 1: Redes neuronales feedfoward y PINNs**\n",
        "\n",
        "**Profesores: Claudio Muñoz y Joaquín Fontbona**\n",
        "\n",
        "**Auxiliares: Javier Maass y Diego Olguín**\n",
        "\n",
        "**Nombres integrantes: COMPLETAR**"
      ],
      "metadata": {
        "id": "lUNbsNbwOTvx"
      }
    },
    {
      "cell_type": "markdown",
      "source": [
        "**Instrucciones:**\n",
        "\n",
        "- **Fecha de entrega:** **26 de abril de 2024, a las 23:59.**\n",
        "\n",
        "- **Importante:** Si trabaja desde el link de Google Colab (muy recomendable para trabajar con DeepXDE) debe hacer un copia en su Drive antes de trabajar, de lo contrario se podrían no guardar sus códigos.\n",
        "\n",
        "- Debe entregar un Jupyter Notebook (archivo .ipynb) con sus código en Python. Le pueden ser de mucha utilidad los códigos vistos en la actividad práctica.\n",
        "\n",
        "- Sus códigos deben estar comentados y ordenados. Además, en formato texto debe colocar todas sus conclusiones y resultados pedidos que deban ser redactados.\n",
        "\n",
        "- En todos los ejercicios se le pide hacer al menos un gráfico. Los gráficos que realicen deben ser claros, con títulos y nombres en los ejes, junto con leyendas si es que corresponde."
      ],
      "metadata": {
        "id": "sxGdNKqBdpv_"
      }
    },
    {
      "cell_type": "code",
      "execution_count": null,
      "metadata": {
        "id": "0Ln5xbD8OQB7"
      },
      "outputs": [],
      "source": [
        "# Librerías\n",
        "\n",
        "# Numpy y matplotlib, junto con seaborn, para gráficos un poco mejores\n",
        "import numpy as np\n",
        "import matplotlib.pyplot as plt\n",
        "\n",
        "# Puede ser útil para hacer gráficos con barras de colores\n",
        "from mpl_toolkits.axes_grid1 import make_axes_locatable\n",
        "\n",
        "import seaborn as sns\n",
        "\n",
        "sns.set_theme()\n",
        "\n",
        "# PyTorch y módulos que serán necesario\n",
        "import torch\n",
        "import torch.nn as nn\n",
        "import torch.optim as optim"
      ]
    },
    {
      "cell_type": "markdown",
      "source": [
        "## **Ejercicio 1**\n",
        "\n",
        "El objetivo de este ejercicio es estudiar la aproximación vía redes neuronales del problema de frontera\n",
        "\n",
        "$$ y''(x) + \\frac{\\pi^2}{4} y(x) = 0 $$\n",
        "$$ y(-1) = y(1) = 0, \\, y(0) = 1$$\n",
        "\n",
        "Para ello utilice redes de 1 capa oculta de ancho $N$, usando $N = \\{ 10, 20, 30, 100\\}$. Entrene la red con 600 iteraciones del algoritmo ``Adam``.\n",
        "\n",
        "En cada caso grafique la evolución de la función de pérdida en las iteraciones de entrenamiento, además de la red evaluada en puntos en el intervalo $[-1,1]$ y compare con la solución analítica:\n",
        "\n",
        "$$ y(x) = \\cos \\left (\\frac{\\pi}{2} x \\right ) $$"
      ],
      "metadata": {
        "id": "l7r-Fb47PG3s"
      }
    },
    {
      "cell_type": "code",
      "source": [
        "# Solución!"
      ],
      "metadata": {
        "id": "3nXEQlOhK_0X"
      },
      "execution_count": null,
      "outputs": []
    },
    {
      "cell_type": "markdown",
      "source": [
        "## **Ejercicio 2**\n",
        "\n"
      ],
      "metadata": {
        "id": "_DMLdiY3RjId"
      }
    },
    {
      "cell_type": "markdown",
      "source": [
        "Veremos nuevamente el problema de EDP de Helmholtz\n",
        "\n",
        "$$ -\\Delta u - k_0^2 u = f, \\quad \\Omega = (0,1)^2 $$\n",
        "$$ u = 0, \\quad ∂ Ω $$\n",
        "\n",
        "Que tiene solución analítica\n",
        "\n",
        "$$ u(x, y) =  \\sin (k_0 x) \\sin (k_0 y)$$\n",
        "\n",
        "Cuando $f(x,y) = k_0^2 \\sin (k_0 x) \\sin (k_0 y)$. Considere $k_0 = 2 n \\pi$ y entrene una red neuronal de 3 capas, 100 neuronas por capa, función de activación seno y 3000 iteraciones del optimizador Adam, que resuelva el problema para $n \\in \\{ 1, 3, 5 \\}$. Grafique la función de pérdida en función de las iteraciones de entrenamiento y el resultado de la red, comparando este con la solución analítica. ¿Qué resultado observa para los distintos $n$ propuestos?"
      ],
      "metadata": {
        "id": "Ho8aesDRAwr2"
      }
    },
    {
      "cell_type": "code",
      "source": [
        "# Instalamos e importamos la librería\n",
        "try:\n",
        "    import deepxde as dde\n",
        "except:\n",
        "    !pip install deepxde\n",
        "    import deepxde as dde\n",
        "\n",
        "# Importamos Tensorflow, que es el backend que utilizaremos\n",
        "import tensorflow as tf"
      ],
      "metadata": {
        "id": "3yq5QQlGBB-4"
      },
      "execution_count": null,
      "outputs": []
    },
    {
      "cell_type": "code",
      "source": [
        "# Solución!"
      ],
      "metadata": {
        "id": "YgaYPiXYLQfR"
      },
      "execution_count": null,
      "outputs": []
    },
    {
      "cell_type": "markdown",
      "source": [
        "### **Ejercicio 3**\n",
        "\n",
        "Considere el problema de Poisson\n",
        "\n",
        "$$ -\\Delta u = x(1-x) + y(1-y), \\quad \\Omega = (0,1)^2 $$\n",
        "$$ u = 0, \\quad ∂ Ω $$\n",
        "\n",
        "Que tiene solución analítica\n",
        "\n",
        "$$ u(x, y) = \\frac{1}{2} x(1-x)y(1-y)$$\n",
        "\n",
        "Entrene una red neuronal que aproxime la solución al problema, para ello considere una red de 3 capas, 100 neuronas por cada, función de activatión tangente hiperbólica y 500 iteraciones del optimizador Adam. Grafique la función de pérdida en función de las iteraciones de entrenamiento y el resultado de la red, comparando este con la solución analítica del problema.\n"
      ],
      "metadata": {
        "id": "GRVZDx4YaL8y"
      }
    },
    {
      "cell_type": "code",
      "source": [
        "# Solución!"
      ],
      "metadata": {
        "id": "cPDkUQCXLS_7"
      },
      "execution_count": null,
      "outputs": []
    }
  ]
}